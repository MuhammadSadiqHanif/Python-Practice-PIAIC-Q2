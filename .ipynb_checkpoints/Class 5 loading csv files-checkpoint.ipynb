{
 "cells": [
  {
   "cell_type": "markdown",
   "metadata": {},
   "source": [
    "\n",
    "sort\n",
    "sort_values\n",
    "rank\n"
   ]
  },
  {
   "cell_type": "markdown",
   "metadata": {},
   "source": [
    "## Sorting and Ranking\n",
    "### sort\n",
    "### sort_values\n",
    "### rank"
   ]
  },
  {
   "cell_type": "code",
   "execution_count": 2,
   "metadata": {},
   "outputs": [],
   "source": [
    "# take a  prive .csv file\n",
    "# and use \n",
    "# df.info()\n",
    "# df.describe()\n",
    "\n"
   ]
  },
  {
   "cell_type": "code",
   "execution_count": 4,
   "metadata": {},
   "outputs": [
    {
     "name": "stdout",
     "output_type": "stream",
     "text": [
      "                       date symbol        open       close         low  \\\n",
      "0       2016-01-05 00:00:00   WLTW  123.430000  125.839996  122.309998   \n",
      "1       2016-01-06 00:00:00   WLTW  125.239998  119.980003  119.940002   \n",
      "2       2016-01-07 00:00:00   WLTW  116.379997  114.949997  114.930000   \n",
      "3       2016-01-08 00:00:00   WLTW  115.480003  116.620003  113.500000   \n",
      "4       2016-01-11 00:00:00   WLTW  117.010002  114.970001  114.089996   \n",
      "5       2016-01-12 00:00:00   WLTW  115.510002  115.550003  114.500000   \n",
      "6       2016-01-13 00:00:00   WLTW  116.459999  112.849998  112.589996   \n",
      "7       2016-01-14 00:00:00   WLTW  113.510002  114.379997  110.050003   \n",
      "8       2016-01-15 00:00:00   WLTW  113.330002  112.529999  111.919998   \n",
      "9       2016-01-19 00:00:00   WLTW  113.660004  110.379997  109.870003   \n",
      "10      2016-01-20 00:00:00   WLTW  109.059998  109.300003  108.320000   \n",
      "11      2016-01-21 00:00:00   WLTW  109.730003  110.000000  108.320000   \n",
      "12      2016-01-22 00:00:00   WLTW  111.879997  111.949997  110.190002   \n",
      "13      2016-01-25 00:00:00   WLTW  111.320000  110.120003  110.000000   \n",
      "14      2016-01-26 00:00:00   WLTW  110.419998  111.000000  107.300003   \n",
      "15      2016-01-27 00:00:00   WLTW  110.769997  110.709999  109.019997   \n",
      "16      2016-01-28 00:00:00   WLTW  110.900002  112.580002  109.900002   \n",
      "17      2016-01-29 00:00:00   WLTW  113.349998  114.470001  111.669998   \n",
      "18      2016-02-01 00:00:00   WLTW  114.000000  114.500000  112.900002   \n",
      "19      2016-02-02 00:00:00   WLTW  113.250000  110.559998  109.750000   \n",
      "20      2016-02-03 00:00:00   WLTW  113.379997  114.050003  109.639999   \n",
      "21      2016-02-04 00:00:00   WLTW  114.080002  115.709999  114.080002   \n",
      "22      2016-02-05 00:00:00   WLTW  115.120003  114.019997  109.709999   \n",
      "23      2016-02-08 00:00:00   WLTW  113.300003  111.160004  110.459999   \n",
      "24      2016-02-09 00:00:00   WLTW  111.169998  110.650002  109.639999   \n",
      "25      2016-02-10 00:00:00   WLTW  106.730003  107.519997  106.360001   \n",
      "26      2016-02-11 00:00:00   WLTW  105.629997  107.129997  104.110001   \n",
      "27      2016-02-12 00:00:00   WLTW  108.559998  107.839996  107.070000   \n",
      "28      2016-02-16 00:00:00   WLTW  109.110001  110.769997  107.010002   \n",
      "29      2016-02-17 00:00:00   WLTW  110.830002  111.239998  107.970001   \n",
      "...                     ...    ...         ...         ...         ...   \n",
      "851234           2016-12-30    WAT  135.240005  134.389999  133.710007   \n",
      "851235           2016-12-30    WBA   83.459999   82.760002   82.419998   \n",
      "851236           2016-12-30    WDC   68.550003   67.949997   67.610001   \n",
      "851237           2016-12-30    WEC   58.980000   58.650002   58.419998   \n",
      "851238           2016-12-30    WFC   54.889999   55.110001   54.790001   \n",
      "851239           2016-12-30    WFM   31.059999   30.760000   30.670000   \n",
      "851240           2016-12-30    WHR  183.800003  181.770004  180.869995   \n",
      "851241           2016-12-30     WM   71.269997   70.910004   70.750000   \n",
      "851242           2016-12-30    WMB   30.940001   31.139999   30.889999   \n",
      "851243           2016-12-30    WMT   69.120003   69.120003   68.830002   \n",
      "851244           2016-12-30    WRK   51.840000   50.770000   50.529999   \n",
      "851245           2016-12-30     WU   21.840000   21.719999   21.600000   \n",
      "851246           2016-12-30     WY   30.450001   30.090000   29.950001   \n",
      "851247           2016-12-30    WYN   76.849998   76.370003   76.180000   \n",
      "851248           2016-12-30   WYNN   87.099998   86.510002   85.570000   \n",
      "851249           2016-12-30    XEC  136.520004  135.899994  135.309998   \n",
      "851250           2016-12-30    XEL   41.000000   40.700001   40.560001   \n",
      "851251           2016-12-30     XL   37.360001   37.259998   37.060001   \n",
      "851252           2016-12-30   XLNX   61.090000   60.369999   60.020000   \n",
      "851253           2016-12-30    XOM   90.029999   90.260002   90.010002   \n",
      "851254           2016-12-30   XRAY   58.290001   57.730000   57.540001   \n",
      "851255           2016-12-30    XRX    8.720000    8.730000    8.700000   \n",
      "851256           2016-12-30    XYL   49.980000   49.520000   49.360001   \n",
      "851257           2016-12-30   YHOO   38.720001   38.669998   38.430000   \n",
      "851258           2016-12-30    YUM   63.930000   63.330002   63.160000   \n",
      "851259           2016-12-30    ZBH  103.309998  103.199997  102.849998   \n",
      "851260           2016-12-30   ZION   43.070000   43.040001   42.689999   \n",
      "851261           2016-12-30    ZTS   53.639999   53.529999   53.270000   \n",
      "851262  2016-12-30 00:00:00    AIV   44.730000   45.450001   44.410000   \n",
      "851263  2016-12-30 00:00:00    FTV   54.200001   53.630001   53.389999   \n",
      "\n",
      "              high      volume  \n",
      "0       126.250000   2163600.0  \n",
      "1       125.540001   2386400.0  \n",
      "2       119.739998   2489500.0  \n",
      "3       117.440002   2006300.0  \n",
      "4       117.330002   1408600.0  \n",
      "5       116.059998   1098000.0  \n",
      "6       117.070000    949600.0  \n",
      "7       115.029999    785300.0  \n",
      "8       114.879997   1093700.0  \n",
      "9       115.870003   1523500.0  \n",
      "10      111.599998   1653900.0  \n",
      "11      110.580002    944300.0  \n",
      "12      112.949997    744900.0  \n",
      "13      114.629997    703800.0  \n",
      "14      111.400002    563100.0  \n",
      "15      112.570000    896100.0  \n",
      "16      112.970001    680400.0  \n",
      "17      114.589996    749900.0  \n",
      "18      114.849998    574200.0  \n",
      "19      113.860001    694800.0  \n",
      "20      114.639999    896300.0  \n",
      "21      116.320000    956300.0  \n",
      "22      116.489998    997100.0  \n",
      "23      113.300003   1200500.0  \n",
      "24      112.110001   1725200.0  \n",
      "25      112.110001   1946000.0  \n",
      "26      109.260002   1319500.0  \n",
      "27      109.430000    922400.0  \n",
      "28      111.300003   1185100.0  \n",
      "29      112.110001    921500.0  \n",
      "...            ...         ...  \n",
      "851234  135.300003    464200.0  \n",
      "851235   83.620003   3343200.0  \n",
      "851236   69.400002   2824100.0  \n",
      "851237   59.119999   1221800.0  \n",
      "851238   55.360001  15095500.0  \n",
      "851239   31.299999   2707500.0  \n",
      "851240  184.289993    458200.0  \n",
      "851241   71.500000   1230600.0  \n",
      "851242   31.650000   3980300.0  \n",
      "851243   69.430000   6872000.0  \n",
      "851244   51.840000    811200.0  \n",
      "851245   21.900000   2538900.0  \n",
      "851246   30.450001   2825300.0  \n",
      "851247   76.970001    524600.0  \n",
      "851248   87.449997   1888500.0  \n",
      "851249  137.559998    466100.0  \n",
      "851250   41.070000   1887600.0  \n",
      "851251   37.419998    959200.0  \n",
      "851252   61.480000   2111700.0  \n",
      "851253   90.699997   9117800.0  \n",
      "851254   58.360001    949200.0  \n",
      "851255    8.800000  11250400.0  \n",
      "851256   50.000000    646200.0  \n",
      "851257   39.000000   6431600.0  \n",
      "851258   63.939999   1887100.0  \n",
      "851259  103.930000    973800.0  \n",
      "851260   43.310001   1938100.0  \n",
      "851261   53.740002   1701200.0  \n",
      "851262   45.590000   1380900.0  \n",
      "851263   54.480000    705100.0  \n",
      "\n",
      "[851264 rows x 7 columns]\n"
     ]
    }
   ],
   "source": [
    "import pandas as pd\n",
    "df1 = pd.read_csv(\"prices.csv\")\n",
    "print(df1)\n"
   ]
  },
  {
   "cell_type": "code",
   "execution_count": 5,
   "metadata": {},
   "outputs": [
    {
     "data": {
      "text/html": [
       "<div>\n",
       "<style scoped>\n",
       "    .dataframe tbody tr th:only-of-type {\n",
       "        vertical-align: middle;\n",
       "    }\n",
       "\n",
       "    .dataframe tbody tr th {\n",
       "        vertical-align: top;\n",
       "    }\n",
       "\n",
       "    .dataframe thead th {\n",
       "        text-align: right;\n",
       "    }\n",
       "</style>\n",
       "<table border=\"1\" class=\"dataframe\">\n",
       "  <thead>\n",
       "    <tr style=\"text-align: right;\">\n",
       "      <th></th>\n",
       "      <th>date</th>\n",
       "      <th>symbol</th>\n",
       "      <th>open</th>\n",
       "      <th>close</th>\n",
       "      <th>low</th>\n",
       "      <th>high</th>\n",
       "      <th>volume</th>\n",
       "    </tr>\n",
       "  </thead>\n",
       "  <tbody>\n",
       "    <tr>\n",
       "      <th>0</th>\n",
       "      <td>2016-01-05 00:00:00</td>\n",
       "      <td>WLTW</td>\n",
       "      <td>123.430000</td>\n",
       "      <td>125.839996</td>\n",
       "      <td>122.309998</td>\n",
       "      <td>126.250000</td>\n",
       "      <td>2163600.0</td>\n",
       "    </tr>\n",
       "    <tr>\n",
       "      <th>1</th>\n",
       "      <td>2016-01-06 00:00:00</td>\n",
       "      <td>WLTW</td>\n",
       "      <td>125.239998</td>\n",
       "      <td>119.980003</td>\n",
       "      <td>119.940002</td>\n",
       "      <td>125.540001</td>\n",
       "      <td>2386400.0</td>\n",
       "    </tr>\n",
       "    <tr>\n",
       "      <th>2</th>\n",
       "      <td>2016-01-07 00:00:00</td>\n",
       "      <td>WLTW</td>\n",
       "      <td>116.379997</td>\n",
       "      <td>114.949997</td>\n",
       "      <td>114.930000</td>\n",
       "      <td>119.739998</td>\n",
       "      <td>2489500.0</td>\n",
       "    </tr>\n",
       "    <tr>\n",
       "      <th>3</th>\n",
       "      <td>2016-01-08 00:00:00</td>\n",
       "      <td>WLTW</td>\n",
       "      <td>115.480003</td>\n",
       "      <td>116.620003</td>\n",
       "      <td>113.500000</td>\n",
       "      <td>117.440002</td>\n",
       "      <td>2006300.0</td>\n",
       "    </tr>\n",
       "    <tr>\n",
       "      <th>4</th>\n",
       "      <td>2016-01-11 00:00:00</td>\n",
       "      <td>WLTW</td>\n",
       "      <td>117.010002</td>\n",
       "      <td>114.970001</td>\n",
       "      <td>114.089996</td>\n",
       "      <td>117.330002</td>\n",
       "      <td>1408600.0</td>\n",
       "    </tr>\n",
       "  </tbody>\n",
       "</table>\n",
       "</div>"
      ],
      "text/plain": [
       "                  date symbol        open       close         low        high  \\\n",
       "0  2016-01-05 00:00:00   WLTW  123.430000  125.839996  122.309998  126.250000   \n",
       "1  2016-01-06 00:00:00   WLTW  125.239998  119.980003  119.940002  125.540001   \n",
       "2  2016-01-07 00:00:00   WLTW  116.379997  114.949997  114.930000  119.739998   \n",
       "3  2016-01-08 00:00:00   WLTW  115.480003  116.620003  113.500000  117.440002   \n",
       "4  2016-01-11 00:00:00   WLTW  117.010002  114.970001  114.089996  117.330002   \n",
       "\n",
       "      volume  \n",
       "0  2163600.0  \n",
       "1  2386400.0  \n",
       "2  2489500.0  \n",
       "3  2006300.0  \n",
       "4  1408600.0  "
      ]
     },
     "execution_count": 5,
     "metadata": {},
     "output_type": "execute_result"
    }
   ],
   "source": [
    "df1.head()"
   ]
  },
  {
   "cell_type": "code",
   "execution_count": 42,
   "metadata": {},
   "outputs": [],
   "source": [
    "# Unique\n",
    "obj = pd.Series(['c', 'a', 'd', 'a', 'a', 'b', 'b', 'c', 'c'])\n",
    "uniques = obj.unique()"
   ]
  },
  {
   "cell_type": "code",
   "execution_count": 43,
   "metadata": {},
   "outputs": [
    {
     "data": {
      "text/plain": [
       "array(['c', 'a', 'd', 'b'], dtype=object)"
      ]
     },
     "execution_count": 43,
     "metadata": {},
     "output_type": "execute_result"
    }
   ],
   "source": [
    "uniques"
   ]
  },
  {
   "cell_type": "code",
   "execution_count": 44,
   "metadata": {},
   "outputs": [],
   "source": [
    "# uniques.sort()"
   ]
  },
  {
   "cell_type": "code",
   "execution_count": 45,
   "metadata": {},
   "outputs": [
    {
     "data": {
      "text/plain": [
       "array(['c', 'a', 'd', 'b'], dtype=object)"
      ]
     },
     "execution_count": 45,
     "metadata": {},
     "output_type": "execute_result"
    }
   ],
   "source": [
    "uniques"
   ]
  },
  {
   "cell_type": "code",
   "execution_count": 46,
   "metadata": {},
   "outputs": [],
   "source": [
    "# obj"
   ]
  },
  {
   "cell_type": "code",
   "execution_count": 47,
   "metadata": {},
   "outputs": [
    {
     "data": {
      "text/plain": [
       "c    3\n",
       "a    3\n",
       "b    2\n",
       "d    1\n",
       "dtype: int64"
      ]
     },
     "execution_count": 47,
     "metadata": {},
     "output_type": "execute_result"
    }
   ],
   "source": [
    "obj.value_counts()"
   ]
  },
  {
   "cell_type": "code",
   "execution_count": 50,
   "metadata": {},
   "outputs": [
    {
     "data": {
      "text/plain": [
       "b    2\n",
       "a    3\n",
       "c    3\n",
       "d    1\n",
       "dtype: int64"
      ]
     },
     "execution_count": 50,
     "metadata": {},
     "output_type": "execute_result"
    }
   ],
   "source": [
    "pd.value_counts(obj.values, sort=False)"
   ]
  },
  {
   "cell_type": "code",
   "execution_count": 52,
   "metadata": {},
   "outputs": [
    {
     "data": {
      "text/plain": [
       "0     True\n",
       "1    False\n",
       "2    False\n",
       "3    False\n",
       "4    False\n",
       "5     True\n",
       "6     True\n",
       "7     True\n",
       "8     True\n",
       "dtype: bool"
      ]
     },
     "execution_count": 52,
     "metadata": {},
     "output_type": "execute_result"
    }
   ],
   "source": [
    "mask = obj.isin(['b', 'c'])\n",
    "mask"
   ]
  },
  {
   "cell_type": "code",
   "execution_count": 53,
   "metadata": {},
   "outputs": [
    {
     "data": {
      "text/plain": [
       "0    c\n",
       "5    b\n",
       "6    b\n",
       "7    c\n",
       "8    c\n",
       "dtype: object"
      ]
     },
     "execution_count": 53,
     "metadata": {},
     "output_type": "execute_result"
    }
   ],
   "source": [
    "obj[mask]"
   ]
  },
  {
   "cell_type": "code",
   "execution_count": 55,
   "metadata": {},
   "outputs": [
    {
     "data": {
      "text/plain": [
       "array([0, 2, 1, 1, 0, 2], dtype=int64)"
      ]
     },
     "execution_count": 55,
     "metadata": {},
     "output_type": "execute_result"
    }
   ],
   "source": [
    "to_match = pd.Series(['c', 'a', 'b', 'b', 'c', 'a'])\n",
    "unique_vals = pd.Series(['c', 'b', 'a'])\n",
    "pd.Index(unique_vals).get_indexer(to_match) # it gives the index no of the (unique_vals) in the (to_match) array"
   ]
  },
  {
   "cell_type": "code",
   "execution_count": 58,
   "metadata": {},
   "outputs": [],
   "source": [
    "data = pd.DataFrame({'Qu1': [1, 3, 4, 3, 4],\n",
    "                     'Qu2': [2, 3, 1, 2, 3],\n",
    "                     'Qu3': [1, 5, 2, 4, 4]})\n",
    "# apply just reture a whloe colume "
   ]
  },
  {
   "cell_type": "code",
   "execution_count": 60,
   "metadata": {},
   "outputs": [
    {
     "data": {
      "text/html": [
       "<div>\n",
       "<style scoped>\n",
       "    .dataframe tbody tr th:only-of-type {\n",
       "        vertical-align: middle;\n",
       "    }\n",
       "\n",
       "    .dataframe tbody tr th {\n",
       "        vertical-align: top;\n",
       "    }\n",
       "\n",
       "    .dataframe thead th {\n",
       "        text-align: right;\n",
       "    }\n",
       "</style>\n",
       "<table border=\"1\" class=\"dataframe\">\n",
       "  <thead>\n",
       "    <tr style=\"text-align: right;\">\n",
       "      <th></th>\n",
       "      <th>Qu1</th>\n",
       "      <th>Qu2</th>\n",
       "      <th>Qu3</th>\n",
       "    </tr>\n",
       "  </thead>\n",
       "  <tbody>\n",
       "    <tr>\n",
       "      <th>1</th>\n",
       "      <td>1.0</td>\n",
       "      <td>1.0</td>\n",
       "      <td>1.0</td>\n",
       "    </tr>\n",
       "    <tr>\n",
       "      <th>2</th>\n",
       "      <td>0.0</td>\n",
       "      <td>2.0</td>\n",
       "      <td>1.0</td>\n",
       "    </tr>\n",
       "    <tr>\n",
       "      <th>3</th>\n",
       "      <td>2.0</td>\n",
       "      <td>2.0</td>\n",
       "      <td>0.0</td>\n",
       "    </tr>\n",
       "    <tr>\n",
       "      <th>4</th>\n",
       "      <td>2.0</td>\n",
       "      <td>0.0</td>\n",
       "      <td>2.0</td>\n",
       "    </tr>\n",
       "    <tr>\n",
       "      <th>5</th>\n",
       "      <td>0.0</td>\n",
       "      <td>0.0</td>\n",
       "      <td>1.0</td>\n",
       "    </tr>\n",
       "  </tbody>\n",
       "</table>\n",
       "</div>"
      ],
      "text/plain": [
       "   Qu1  Qu2  Qu3\n",
       "1  1.0  1.0  1.0\n",
       "2  0.0  2.0  1.0\n",
       "3  2.0  2.0  0.0\n",
       "4  2.0  0.0  2.0\n",
       "5  0.0  0.0  1.0"
      ]
     },
     "execution_count": 60,
     "metadata": {},
     "output_type": "execute_result"
    }
   ],
   "source": [
    "result = data.apply(pd.value_counts).fillna(0)\n",
    "result"
   ]
  },
  {
   "cell_type": "code",
   "execution_count": 61,
   "metadata": {},
   "outputs": [],
   "source": [
    "### chapter 6"
   ]
  },
  {
   "cell_type": "code",
   "execution_count": 64,
   "metadata": {},
   "outputs": [
    {
     "data": {
      "text/html": [
       "<div>\n",
       "<style scoped>\n",
       "    .dataframe tbody tr th:only-of-type {\n",
       "        vertical-align: middle;\n",
       "    }\n",
       "\n",
       "    .dataframe tbody tr th {\n",
       "        vertical-align: top;\n",
       "    }\n",
       "\n",
       "    .dataframe thead th {\n",
       "        text-align: right;\n",
       "    }\n",
       "</style>\n",
       "<table border=\"1\" class=\"dataframe\">\n",
       "  <thead>\n",
       "    <tr style=\"text-align: right;\">\n",
       "      <th></th>\n",
       "      <th>PassengerId</th>\n",
       "      <th>Survived</th>\n",
       "      <th>Pclass</th>\n",
       "      <th>Name</th>\n",
       "      <th>Sex</th>\n",
       "      <th>Age</th>\n",
       "      <th>SibSp</th>\n",
       "      <th>Parch</th>\n",
       "      <th>Ticket</th>\n",
       "      <th>Fare</th>\n",
       "      <th>Cabin</th>\n",
       "      <th>Embarked</th>\n",
       "    </tr>\n",
       "  </thead>\n",
       "  <tbody>\n",
       "    <tr>\n",
       "      <th>0</th>\n",
       "      <td>1</td>\n",
       "      <td>0</td>\n",
       "      <td>3</td>\n",
       "      <td>Braund, Mr. Owen Harris</td>\n",
       "      <td>male</td>\n",
       "      <td>22.0</td>\n",
       "      <td>1</td>\n",
       "      <td>0</td>\n",
       "      <td>A/5 21171</td>\n",
       "      <td>7.2500</td>\n",
       "      <td>NaN</td>\n",
       "      <td>S</td>\n",
       "    </tr>\n",
       "    <tr>\n",
       "      <th>1</th>\n",
       "      <td>2</td>\n",
       "      <td>1</td>\n",
       "      <td>1</td>\n",
       "      <td>Cumings, Mrs. John Bradley (Florence Briggs Th...</td>\n",
       "      <td>female</td>\n",
       "      <td>38.0</td>\n",
       "      <td>1</td>\n",
       "      <td>0</td>\n",
       "      <td>PC 17599</td>\n",
       "      <td>71.2833</td>\n",
       "      <td>C85</td>\n",
       "      <td>C</td>\n",
       "    </tr>\n",
       "    <tr>\n",
       "      <th>2</th>\n",
       "      <td>3</td>\n",
       "      <td>1</td>\n",
       "      <td>3</td>\n",
       "      <td>Heikkinen, Miss. Laina</td>\n",
       "      <td>female</td>\n",
       "      <td>26.0</td>\n",
       "      <td>0</td>\n",
       "      <td>0</td>\n",
       "      <td>STON/O2. 3101282</td>\n",
       "      <td>7.9250</td>\n",
       "      <td>NaN</td>\n",
       "      <td>S</td>\n",
       "    </tr>\n",
       "    <tr>\n",
       "      <th>3</th>\n",
       "      <td>4</td>\n",
       "      <td>1</td>\n",
       "      <td>1</td>\n",
       "      <td>Futrelle, Mrs. Jacques Heath (Lily May Peel)</td>\n",
       "      <td>female</td>\n",
       "      <td>35.0</td>\n",
       "      <td>1</td>\n",
       "      <td>0</td>\n",
       "      <td>113803</td>\n",
       "      <td>53.1000</td>\n",
       "      <td>C123</td>\n",
       "      <td>S</td>\n",
       "    </tr>\n",
       "    <tr>\n",
       "      <th>4</th>\n",
       "      <td>5</td>\n",
       "      <td>0</td>\n",
       "      <td>3</td>\n",
       "      <td>Allen, Mr. William Henry</td>\n",
       "      <td>male</td>\n",
       "      <td>35.0</td>\n",
       "      <td>0</td>\n",
       "      <td>0</td>\n",
       "      <td>373450</td>\n",
       "      <td>8.0500</td>\n",
       "      <td>NaN</td>\n",
       "      <td>S</td>\n",
       "    </tr>\n",
       "  </tbody>\n",
       "</table>\n",
       "</div>"
      ],
      "text/plain": [
       "   PassengerId  Survived  Pclass  \\\n",
       "0            1         0       3   \n",
       "1            2         1       1   \n",
       "2            3         1       3   \n",
       "3            4         1       1   \n",
       "4            5         0       3   \n",
       "\n",
       "                                                Name     Sex   Age  SibSp  \\\n",
       "0                            Braund, Mr. Owen Harris    male  22.0      1   \n",
       "1  Cumings, Mrs. John Bradley (Florence Briggs Th...  female  38.0      1   \n",
       "2                             Heikkinen, Miss. Laina  female  26.0      0   \n",
       "3       Futrelle, Mrs. Jacques Heath (Lily May Peel)  female  35.0      1   \n",
       "4                           Allen, Mr. William Henry    male  35.0      0   \n",
       "\n",
       "   Parch            Ticket     Fare Cabin Embarked  \n",
       "0      0         A/5 21171   7.2500   NaN        S  \n",
       "1      0          PC 17599  71.2833   C85        C  \n",
       "2      0  STON/O2. 3101282   7.9250   NaN        S  \n",
       "3      0            113803  53.1000  C123        S  \n",
       "4      0            373450   8.0500   NaN        S  "
      ]
     },
     "execution_count": 64,
     "metadata": {},
     "output_type": "execute_result"
    }
   ],
   "source": [
    "df = pd.read_csv('train.csv')\n",
    "df.head()"
   ]
  },
  {
   "cell_type": "code",
   "execution_count": 68,
   "metadata": {},
   "outputs": [
    {
     "data": {
      "text/plain": [
       "<matplotlib.axes._subplots.AxesSubplot at 0x1e6a2c575f8>"
      ]
     },
     "execution_count": 68,
     "metadata": {},
     "output_type": "execute_result"
    },
    {
     "data": {
      "image/png": "[encoded data removed]",
      "text/plain": [
       "<Figure size 432x288 with 1 Axes>"
      ]
     },
     "metadata": {
      "needs_background": "light"
     },
     "output_type": "display_data"
    }
   ],
   "source": [
    "df.Age.hist() ## by defult it make 10 groups by min and max "
   ]
  },
  {
   "cell_type": "code",
   "execution_count": 72,
   "metadata": {},
   "outputs": [],
   "source": [
    "female = df[df.Sex == \"female\"]"
   ]
  },
  {
   "cell_type": "code",
   "execution_count": 73,
   "metadata": {},
   "outputs": [
    {
     "data": {
      "text/plain": [
       "(314, 12)"
      ]
     },
     "execution_count": 73,
     "metadata": {},
     "output_type": "execute_result"
    }
   ],
   "source": [
    "female.shape # their were 314 females"
   ]
  },
  {
   "cell_type": "code",
   "execution_count": 75,
   "metadata": {},
   "outputs": [
    {
     "data": {
      "text/plain": [
       "(233, 12)"
      ]
     },
     "execution_count": 75,
     "metadata": {},
     "output_type": "execute_result"
    }
   ],
   "source": [
    "survered_female = female[female.Survived == 1]\n",
    "survered_female.shape"
   ]
  },
  {
   "cell_type": "code",
   "execution_count": 77,
   "metadata": {},
   "outputs": [
    {
     "data": {
      "text/plain": [
       "0.7420382165605095"
      ]
     },
     "execution_count": 77,
     "metadata": {},
     "output_type": "execute_result"
    }
   ],
   "source": [
    "survered_female.shape[0] / female.shape[0]"
   ]
  },
  {
   "cell_type": "code",
   "execution_count": 79,
   "metadata": {},
   "outputs": [],
   "source": [
    "male = df[df.Sex == 'male']"
   ]
  },
  {
   "cell_type": "code",
   "execution_count": 80,
   "metadata": {},
   "outputs": [
    {
     "data": {
      "text/plain": [
       "(577, 12)"
      ]
     },
     "execution_count": 80,
     "metadata": {},
     "output_type": "execute_result"
    }
   ],
   "source": [
    "male.shape"
   ]
  },
  {
   "cell_type": "code",
   "execution_count": 81,
   "metadata": {},
   "outputs": [],
   "source": [
    "survered_male = male[male.Survived == 1]"
   ]
  },
  {
   "cell_type": "code",
   "execution_count": 82,
   "metadata": {},
   "outputs": [
    {
     "data": {
      "text/plain": [
       "(109, 12)"
      ]
     },
     "execution_count": 82,
     "metadata": {},
     "output_type": "execute_result"
    }
   ],
   "source": [
    "survered_male.shape"
   ]
  },
  {
   "cell_type": "code",
   "execution_count": 85,
   "metadata": {},
   "outputs": [
    {
     "data": {
      "text/plain": [
       "74"
      ]
     },
     "execution_count": 85,
     "metadata": {},
     "output_type": "execute_result"
    }
   ],
   "source": [
    "(survered_male.Age>10).sum() ## their were 74 male elder than 10 age wer survied"
   ]
  },
  {
   "cell_type": "code",
   "execution_count": 87,
   "metadata": {},
   "outputs": [],
   "source": [
    "# Boston House prices data set  Home work"
   ]
  },
  {
   "cell_type": "code",
   "execution_count": null,
   "metadata": {},
   "outputs": [],
   "source": []
  }
 ],
 "metadata": {
  "kernelspec": {
   "display_name": "Python 3",
   "language": "python",
   "name": "python3"
  },
  "language_info": {
   "codemirror_mode": {
    "name": "ipython",
    "version": 3
   },
   "file_extension": ".py",
   "mimetype": "text/x-python",
   "name": "python",
   "nbconvert_exporter": "python",
   "pygments_lexer": "ipython3",
   "version": "3.7.3"
  }
 },
 "nbformat": 4,
 "nbformat_minor": 2
}
